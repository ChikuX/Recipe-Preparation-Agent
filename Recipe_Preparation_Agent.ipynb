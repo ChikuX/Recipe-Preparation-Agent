{
  "nbformat": 4,
  "nbformat_minor": 0,
  "metadata": {
    "colab": {
      "provenance": []
    },
    "kernelspec": {
      "name": "python3",
      "display_name": "Python 3"
    },
    "language_info": {
      "name": "python"
    }
  },
  "cells": [
    {
      "cell_type": "code",
      "execution_count": null,
      "metadata": {
        "id": "zVerHKGfQGu-"
      },
      "outputs": [],
      "source": [
        "import requests\n",
        "\n",
        "API_KEY = \"<your API key>\" # Example: API_KEY = 0hTzmyGnDje7lf0gd********OoCuOeIeCht6XAfKM\n",
        "token_response = requests.post(\n",
        "    'https://iam.cloud.ibm.com/identity/token',\n",
        "    data={\n",
        "        \"apikey\": API_KEY,\n",
        "        \"grant_type\": 'urn:ibm:params:oauth:grant-type:apikey'\n",
        "    }\n",
        ")\n",
        "\n",
        "mltoken = token_response.json()[\"access_token\"]\n",
        "\n",
        "header = {\n",
        "    'Content-Type': 'application/json',\n",
        "    'Authorization': 'Bearer ' + mltoken\n",
        "}\n",
        "\n",
        "payload_scoring = {\n",
        "    \"messages\": [\n",
        "        {\n",
        "            \"content\": \"I'm looking for a quick dinner idea using tomatoes and pasta. Can you suggest a few options?\",\n",
        "            \"role\": \"user\"\n",
        "        }\n",
        "    ]\n",
        "}\n",
        "\n",
        "response_scoring = requests.post(\n",
        "    'https://eu-gb.ml.cloud.ibm.com/ml/v4/deployments/30d7f88c-1477-40dc-a32f-68983665b4f3/ai_service_stream?version=2021-05-01',\n",
        "    json=payload_scoring,\n",
        "    headers={'Authorization': 'Bearer ' + mltoken}\n",
        ")\n",
        "\n",
        "print(\"Scoring response\")\n",
        "try:\n",
        "    print(response_scoring.json())\n",
        "except ValueError:\n",
        "    print(response_scoring.text)\n",
        "except Exception as e:\n",
        "    print(f\"An unexpected error occurred: {e}\")"
      ]
    }
  ]
}